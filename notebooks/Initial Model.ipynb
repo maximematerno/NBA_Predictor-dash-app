{
 "cells": [
  {
   "cell_type": "code",
   "execution_count": 1,
   "metadata": {},
   "outputs": [],
   "source": [
    "import pandas as pd \n",
    "import numpy as np"
   ]
  },
  {
   "cell_type": "code",
   "execution_count": 2,
   "metadata": {},
   "outputs": [],
   "source": [
    "df =  pd.read_csv('nba.csv')"
   ]
  },
  {
   "cell_type": "code",
   "execution_count": 3,
   "metadata": {},
   "outputs": [
    {
     "name": "stdout",
     "output_type": "stream",
     "text": [
      "(457, 9)\n"
     ]
    },
    {
     "data": {
      "text/html": [
       "<div>\n",
       "<style scoped>\n",
       "    .dataframe tbody tr th:only-of-type {\n",
       "        vertical-align: middle;\n",
       "    }\n",
       "\n",
       "    .dataframe tbody tr th {\n",
       "        vertical-align: top;\n",
       "    }\n",
       "\n",
       "    .dataframe thead th {\n",
       "        text-align: right;\n",
       "    }\n",
       "</style>\n",
       "<table border=\"1\" class=\"dataframe\">\n",
       "  <thead>\n",
       "    <tr style=\"text-align: right;\">\n",
       "      <th></th>\n",
       "      <th>Name</th>\n",
       "      <th>Team</th>\n",
       "      <th>Number</th>\n",
       "      <th>Position</th>\n",
       "      <th>Height</th>\n",
       "      <th>Weight</th>\n",
       "      <th>Age</th>\n",
       "      <th>Salary</th>\n",
       "      <th>College</th>\n",
       "    </tr>\n",
       "  </thead>\n",
       "  <tbody>\n",
       "    <tr>\n",
       "      <td>0</td>\n",
       "      <td>Avery Bradley</td>\n",
       "      <td>Boston Celtics</td>\n",
       "      <td>0</td>\n",
       "      <td>PG</td>\n",
       "      <td>6.2</td>\n",
       "      <td>180</td>\n",
       "      <td>25.0</td>\n",
       "      <td>7730337.0</td>\n",
       "      <td>Texas</td>\n",
       "    </tr>\n",
       "    <tr>\n",
       "      <td>1</td>\n",
       "      <td>Jae Crowder</td>\n",
       "      <td>Boston Celtics</td>\n",
       "      <td>99</td>\n",
       "      <td>SF</td>\n",
       "      <td>6.3</td>\n",
       "      <td>235</td>\n",
       "      <td>25.0</td>\n",
       "      <td>6796117.0</td>\n",
       "      <td>Marquette</td>\n",
       "    </tr>\n",
       "    <tr>\n",
       "      <td>2</td>\n",
       "      <td>John Holland</td>\n",
       "      <td>Boston Celtics</td>\n",
       "      <td>30</td>\n",
       "      <td>SG</td>\n",
       "      <td>6.4</td>\n",
       "      <td>205</td>\n",
       "      <td>27.0</td>\n",
       "      <td>NaN</td>\n",
       "      <td>Boston University</td>\n",
       "    </tr>\n",
       "    <tr>\n",
       "      <td>3</td>\n",
       "      <td>R.J. Hunter</td>\n",
       "      <td>Boston Celtics</td>\n",
       "      <td>28</td>\n",
       "      <td>SG</td>\n",
       "      <td>6.5</td>\n",
       "      <td>185</td>\n",
       "      <td>22.0</td>\n",
       "      <td>1148640.0</td>\n",
       "      <td>Georgia State</td>\n",
       "    </tr>\n",
       "    <tr>\n",
       "      <td>4</td>\n",
       "      <td>Jonas Jerebko</td>\n",
       "      <td>Boston Celtics</td>\n",
       "      <td>8</td>\n",
       "      <td>PF</td>\n",
       "      <td>6.6</td>\n",
       "      <td>231</td>\n",
       "      <td>29.0</td>\n",
       "      <td>5000000.0</td>\n",
       "      <td>NaN</td>\n",
       "    </tr>\n",
       "  </tbody>\n",
       "</table>\n",
       "</div>"
      ],
      "text/plain": [
       "            Name            Team  Number Position  Height  Weight   Age  \\\n",
       "0  Avery Bradley  Boston Celtics       0       PG     6.2     180  25.0   \n",
       "1    Jae Crowder  Boston Celtics      99       SF     6.3     235  25.0   \n",
       "2   John Holland  Boston Celtics      30       SG     6.4     205  27.0   \n",
       "3    R.J. Hunter  Boston Celtics      28       SG     6.5     185  22.0   \n",
       "4  Jonas Jerebko  Boston Celtics       8       PF     6.6     231  29.0   \n",
       "\n",
       "      Salary            College  \n",
       "0  7730337.0              Texas  \n",
       "1  6796117.0          Marquette  \n",
       "2        NaN  Boston University  \n",
       "3  1148640.0      Georgia State  \n",
       "4  5000000.0                NaN  "
      ]
     },
     "execution_count": 3,
     "metadata": {},
     "output_type": "execute_result"
    }
   ],
   "source": [
    "print(df.shape)\n",
    "df.head()"
   ]
  },
  {
   "cell_type": "code",
   "execution_count": 4,
   "metadata": {},
   "outputs": [
    {
     "data": {
      "text/plain": [
       "Name         3\n",
       "Team         6\n",
       "Number       0\n",
       "Position     0\n",
       "Height       0\n",
       "Weight       0\n",
       "Age          3\n",
       "Salary      14\n",
       "College     82\n",
       "dtype: int64"
      ]
     },
     "execution_count": 4,
     "metadata": {},
     "output_type": "execute_result"
    }
   ],
   "source": [
    "df.isnull().sum()"
   ]
  },
  {
   "cell_type": "code",
   "execution_count": 5,
   "metadata": {},
   "outputs": [],
   "source": [
    "df = df.fillna(0)"
   ]
  },
  {
   "cell_type": "code",
   "execution_count": 6,
   "metadata": {},
   "outputs": [
    {
     "data": {
      "text/plain": [
       "Name        0\n",
       "Team        0\n",
       "Number      0\n",
       "Position    0\n",
       "Height      0\n",
       "Weight      0\n",
       "Age         0\n",
       "Salary      0\n",
       "College     0\n",
       "dtype: int64"
      ]
     },
     "execution_count": 6,
     "metadata": {},
     "output_type": "execute_result"
    }
   ],
   "source": [
    "df.isnull().sum()"
   ]
  },
  {
   "cell_type": "code",
   "execution_count": 7,
   "metadata": {},
   "outputs": [
    {
     "data": {
      "text/plain": [
       "(457, 9)"
      ]
     },
     "execution_count": 7,
     "metadata": {},
     "output_type": "execute_result"
    }
   ],
   "source": [
    "df.shape"
   ]
  },
  {
   "cell_type": "code",
   "execution_count": 8,
   "metadata": {},
   "outputs": [
    {
     "data": {
      "text/html": [
       "<div>\n",
       "<style scoped>\n",
       "    .dataframe tbody tr th:only-of-type {\n",
       "        vertical-align: middle;\n",
       "    }\n",
       "\n",
       "    .dataframe tbody tr th {\n",
       "        vertical-align: top;\n",
       "    }\n",
       "\n",
       "    .dataframe thead th {\n",
       "        text-align: right;\n",
       "    }\n",
       "</style>\n",
       "<table border=\"1\" class=\"dataframe\">\n",
       "  <thead>\n",
       "    <tr style=\"text-align: right;\">\n",
       "      <th></th>\n",
       "      <th>Name</th>\n",
       "      <th>Team</th>\n",
       "      <th>Number</th>\n",
       "      <th>Position</th>\n",
       "      <th>Height</th>\n",
       "      <th>Weight</th>\n",
       "      <th>Age</th>\n",
       "      <th>Salary</th>\n",
       "      <th>College</th>\n",
       "    </tr>\n",
       "  </thead>\n",
       "  <tbody>\n",
       "    <tr>\n",
       "      <td>0</td>\n",
       "      <td>Avery Bradley</td>\n",
       "      <td>Boston Celtics</td>\n",
       "      <td>0</td>\n",
       "      <td>PG</td>\n",
       "      <td>6.2</td>\n",
       "      <td>180</td>\n",
       "      <td>25.0</td>\n",
       "      <td>7730337.0</td>\n",
       "      <td>Texas</td>\n",
       "    </tr>\n",
       "    <tr>\n",
       "      <td>1</td>\n",
       "      <td>Jae Crowder</td>\n",
       "      <td>Boston Celtics</td>\n",
       "      <td>99</td>\n",
       "      <td>SF</td>\n",
       "      <td>6.3</td>\n",
       "      <td>235</td>\n",
       "      <td>25.0</td>\n",
       "      <td>6796117.0</td>\n",
       "      <td>Marquette</td>\n",
       "    </tr>\n",
       "    <tr>\n",
       "      <td>2</td>\n",
       "      <td>John Holland</td>\n",
       "      <td>Boston Celtics</td>\n",
       "      <td>30</td>\n",
       "      <td>SG</td>\n",
       "      <td>6.4</td>\n",
       "      <td>205</td>\n",
       "      <td>27.0</td>\n",
       "      <td>0.0</td>\n",
       "      <td>Boston University</td>\n",
       "    </tr>\n",
       "    <tr>\n",
       "      <td>3</td>\n",
       "      <td>R.J. Hunter</td>\n",
       "      <td>Boston Celtics</td>\n",
       "      <td>28</td>\n",
       "      <td>SG</td>\n",
       "      <td>6.5</td>\n",
       "      <td>185</td>\n",
       "      <td>22.0</td>\n",
       "      <td>1148640.0</td>\n",
       "      <td>Georgia State</td>\n",
       "    </tr>\n",
       "    <tr>\n",
       "      <td>4</td>\n",
       "      <td>Jonas Jerebko</td>\n",
       "      <td>Boston Celtics</td>\n",
       "      <td>8</td>\n",
       "      <td>PF</td>\n",
       "      <td>6.6</td>\n",
       "      <td>231</td>\n",
       "      <td>29.0</td>\n",
       "      <td>5000000.0</td>\n",
       "      <td>0</td>\n",
       "    </tr>\n",
       "  </tbody>\n",
       "</table>\n",
       "</div>"
      ],
      "text/plain": [
       "            Name            Team  Number Position  Height  Weight   Age  \\\n",
       "0  Avery Bradley  Boston Celtics       0       PG     6.2     180  25.0   \n",
       "1    Jae Crowder  Boston Celtics      99       SF     6.3     235  25.0   \n",
       "2   John Holland  Boston Celtics      30       SG     6.4     205  27.0   \n",
       "3    R.J. Hunter  Boston Celtics      28       SG     6.5     185  22.0   \n",
       "4  Jonas Jerebko  Boston Celtics       8       PF     6.6     231  29.0   \n",
       "\n",
       "      Salary            College  \n",
       "0  7730337.0              Texas  \n",
       "1  6796117.0          Marquette  \n",
       "2        0.0  Boston University  \n",
       "3  1148640.0      Georgia State  \n",
       "4  5000000.0                  0  "
      ]
     },
     "execution_count": 8,
     "metadata": {},
     "output_type": "execute_result"
    }
   ],
   "source": [
    "df.head()"
   ]
  },
  {
   "cell_type": "code",
   "execution_count": 9,
   "metadata": {},
   "outputs": [],
   "source": [
    "pd.options.display.float_format = '{:.2f}'.format"
   ]
  },
  {
   "cell_type": "code",
   "execution_count": 10,
   "metadata": {},
   "outputs": [],
   "source": [
    "# Baseline"
   ]
  },
  {
   "cell_type": "code",
   "execution_count": 11,
   "metadata": {},
   "outputs": [
    {
     "data": {
      "text/plain": [
       "count        457.00\n",
       "mean     4718669.95\n",
       "std      5224735.58\n",
       "min            0.00\n",
       "25%       981348.00\n",
       "50%      2658240.00\n",
       "75%      6331404.00\n",
       "max     25000000.00\n",
       "Name: Salary, dtype: float64"
      ]
     },
     "execution_count": 11,
     "metadata": {},
     "output_type": "execute_result"
    }
   ],
   "source": [
    "df.Salary.describe()"
   ]
  },
  {
   "cell_type": "code",
   "execution_count": 12,
   "metadata": {},
   "outputs": [
    {
     "name": "stdout",
     "output_type": "stream",
     "text": [
      "Mean Baseline:\n",
      "Mean Absolute Error 3993180.1718562217\n",
      "R^2 score 0.0\n"
     ]
    }
   ],
   "source": [
    "from sklearn.metrics import mean_absolute_error, r2_score\n",
    "target = 'Salary'\n",
    "y = df[target]\n",
    "y_pred = [y.mean()] * len(y)\n",
    "print('Mean Baseline:')\n",
    "print('Mean Absolute Error', mean_absolute_error(y, y_pred))\n",
    "print('R^2 score', r2_score(y, y_pred))"
   ]
  },
  {
   "cell_type": "code",
   "execution_count": 36,
   "metadata": {},
   "outputs": [
    {
     "data": {
      "text/plain": [
       "Pipeline(memory=None,\n",
       "         steps=[('ordinalencoder',\n",
       "                 OrdinalEncoder(cols=['Position', 'College'],\n",
       "                                drop_invariant=False, handle_missing='value',\n",
       "                                handle_unknown='value',\n",
       "                                mapping=[{'col': 'Position',\n",
       "                                          'data_type': dtype('O'),\n",
       "                                          'mapping': PG      1\n",
       "SF      2\n",
       "SG      3\n",
       "PF      4\n",
       "C       5\n",
       "1567    6\n",
       "NaN    -2\n",
       "dtype: int64},\n",
       "                                         {'col': 'College',\n",
       "                                          'data_type': dtype('O'),\n",
       "                                          'mapping': Texas                  1\n",
       "Marquette              2\n",
       "Boston University      3\n",
       "Georgia State          4\n",
       "0...\n",
       "                ('randomforestregressor',\n",
       "                 RandomForestRegressor(bootstrap=True, criterion='mse',\n",
       "                                       max_depth=None, max_features='auto',\n",
       "                                       max_leaf_nodes=None,\n",
       "                                       min_impurity_decrease=0.0,\n",
       "                                       min_impurity_split=None,\n",
       "                                       min_samples_leaf=1, min_samples_split=2,\n",
       "                                       min_weight_fraction_leaf=0.0,\n",
       "                                       n_estimators=100, n_jobs=-1,\n",
       "                                       oob_score=False, random_state=42,\n",
       "                                       verbose=0, warm_start=False))],\n",
       "         verbose=False)"
      ]
     },
     "execution_count": 36,
     "metadata": {},
     "output_type": "execute_result"
    }
   ],
   "source": [
    "#Linear Regression\n",
    "import category_encoders as ce\n",
    "import plotly.express as px\n",
    "from sklearn.linear_model import LinearRegression\n",
    "from sklearn.pipeline import make_pipeline\n",
    "import category_encoders as ce\n",
    "from sklearn.impute import SimpleImputer\n",
    "from sklearn.pipeline import make_pipeline\n",
    "from sklearn.ensemble import RandomForestRegressor\n",
    "\n",
    "X = df[['Age', 'Position', 'College','Height','Weight']]\n",
    "y = df['Salary']\n",
    "\n",
    "pipeline = make_pipeline(\n",
    "    ce.OrdinalEncoder(),\n",
    "    SimpleImputer(strategy='median'),\n",
    "    RandomForestRegressor(n_estimators=100, random_state=42, n_jobs=-1)\n",
    ")\n",
    "\n",
    "pipeline.fit(X, y)"
   ]
  },
  {
   "cell_type": "code",
   "execution_count": 13,
   "metadata": {},
   "outputs": [],
   "source": [
    "#train/validate/test split\n",
    "from sklearn.model_selection import train_test_split\n",
    "\n",
    "train, validate = train_test_split(df, train_size=0.80, test_size=0.20, \n",
    "                               random_state=42)"
   ]
  },
  {
   "cell_type": "code",
   "execution_count": 14,
   "metadata": {},
   "outputs": [
    {
     "data": {
      "text/plain": [
       "((365, 9), (92, 9), (92, 9))"
      ]
     },
     "execution_count": 14,
     "metadata": {},
     "output_type": "execute_result"
    }
   ],
   "source": [
    "from sklearn.model_selection import train_test_split\n",
    "\n",
    "train, test = train_test_split(df, train_size=0.80, test_size=0.20, \n",
    "                               random_state=42)\n",
    "train.shape, validate.shape, test.shape"
   ]
  },
  {
   "cell_type": "code",
   "execution_count": 20,
   "metadata": {},
   "outputs": [
    {
     "data": {
      "text/html": [
       "<div>\n",
       "<style scoped>\n",
       "    .dataframe tbody tr th:only-of-type {\n",
       "        vertical-align: middle;\n",
       "    }\n",
       "\n",
       "    .dataframe tbody tr th {\n",
       "        vertical-align: top;\n",
       "    }\n",
       "\n",
       "    .dataframe thead th {\n",
       "        text-align: right;\n",
       "    }\n",
       "</style>\n",
       "<table border=\"1\" class=\"dataframe\">\n",
       "  <thead>\n",
       "    <tr style=\"text-align: right;\">\n",
       "      <th></th>\n",
       "      <th>Name</th>\n",
       "      <th>Team</th>\n",
       "      <th>Number</th>\n",
       "      <th>Position</th>\n",
       "      <th>Height</th>\n",
       "      <th>Weight</th>\n",
       "      <th>Age</th>\n",
       "      <th>Salary</th>\n",
       "      <th>College</th>\n",
       "    </tr>\n",
       "  </thead>\n",
       "  <tbody>\n",
       "    <tr>\n",
       "      <td>1</td>\n",
       "      <td>Jae Crowder</td>\n",
       "      <td>Boston Celtics</td>\n",
       "      <td>99</td>\n",
       "      <td>SF</td>\n",
       "      <td>6.30</td>\n",
       "      <td>235</td>\n",
       "      <td>25.00</td>\n",
       "      <td>6796117.00</td>\n",
       "      <td>Marquette</td>\n",
       "    </tr>\n",
       "    <tr>\n",
       "      <td>2</td>\n",
       "      <td>John Holland</td>\n",
       "      <td>Boston Celtics</td>\n",
       "      <td>30</td>\n",
       "      <td>SG</td>\n",
       "      <td>6.40</td>\n",
       "      <td>205</td>\n",
       "      <td>27.00</td>\n",
       "      <td>0.00</td>\n",
       "      <td>Boston University</td>\n",
       "    </tr>\n",
       "    <tr>\n",
       "      <td>3</td>\n",
       "      <td>R.J. Hunter</td>\n",
       "      <td>Boston Celtics</td>\n",
       "      <td>28</td>\n",
       "      <td>SG</td>\n",
       "      <td>6.50</td>\n",
       "      <td>185</td>\n",
       "      <td>22.00</td>\n",
       "      <td>1148640.00</td>\n",
       "      <td>Georgia State</td>\n",
       "    </tr>\n",
       "    <tr>\n",
       "      <td>4</td>\n",
       "      <td>Jonas Jerebko</td>\n",
       "      <td>Boston Celtics</td>\n",
       "      <td>8</td>\n",
       "      <td>PF</td>\n",
       "      <td>6.60</td>\n",
       "      <td>231</td>\n",
       "      <td>29.00</td>\n",
       "      <td>5000000.00</td>\n",
       "      <td>0</td>\n",
       "    </tr>\n",
       "    <tr>\n",
       "      <td>5</td>\n",
       "      <td>Amir Johnson</td>\n",
       "      <td>Boston Celtics</td>\n",
       "      <td>90</td>\n",
       "      <td>PF</td>\n",
       "      <td>6.70</td>\n",
       "      <td>240</td>\n",
       "      <td>29.00</td>\n",
       "      <td>12000000.00</td>\n",
       "      <td>0</td>\n",
       "    </tr>\n",
       "  </tbody>\n",
       "</table>\n",
       "</div>"
      ],
      "text/plain": [
       "            Name            Team  Number Position  Height  Weight   Age  \\\n",
       "1    Jae Crowder  Boston Celtics      99       SF    6.30     235 25.00   \n",
       "2   John Holland  Boston Celtics      30       SG    6.40     205 27.00   \n",
       "3    R.J. Hunter  Boston Celtics      28       SG    6.50     185 22.00   \n",
       "4  Jonas Jerebko  Boston Celtics       8       PF    6.60     231 29.00   \n",
       "5   Amir Johnson  Boston Celtics      90       PF    6.70     240 29.00   \n",
       "\n",
       "       Salary            College  \n",
       "1  6796117.00          Marquette  \n",
       "2        0.00  Boston University  \n",
       "3  1148640.00      Georgia State  \n",
       "4  5000000.00                  0  \n",
       "5 12000000.00                  0  "
      ]
     },
     "execution_count": 20,
     "metadata": {},
     "output_type": "execute_result"
    }
   ],
   "source": [
    "train.head()"
   ]
  },
  {
   "cell_type": "code",
   "execution_count": 33,
   "metadata": {},
   "outputs": [
    {
     "data": {
      "text/plain": [
       "array([ 6.2 ,  6.3 ,  6.4 ,  6.5 ,  6.6 ,  6.7 ,  6.8 ,  6.9 ,  6.1 ,\n",
       "        6.11,  6.12,  6.13,  6.14,  6.15,  6.16,  6.17,  6.18,  6.19,\n",
       "        6.21,  6.22,  6.23,  6.24,  6.25,  6.26,  6.27,  6.28,  6.29,\n",
       "        7.1 ,  7.2 ,  7.3 ,  7.4 ,  7.5 ,  7.6 ,  7.7 ,  7.8 ,  7.9 ,\n",
       "        7.11,  7.12,  7.13,  7.14,  7.15,  7.16,  7.17,  7.18,  7.19,\n",
       "        7.21,  7.22,  7.23,  7.24,  7.25,  7.26,  7.27,  7.28,  7.29,\n",
       "        7.31,  8.1 ,  8.2 ,  8.3 ,  8.4 ,  8.5 ,  8.6 ,  6.  ,  7.  ,\n",
       "        5.11, 26.2 , 66.6 , 56.5 , 76.7 ])"
      ]
     },
     "execution_count": 33,
     "metadata": {},
     "output_type": "execute_result"
    }
   ],
   "source": [
    "df.Height.unique()"
   ]
  },
  {
   "cell_type": "code",
   "execution_count": 34,
   "metadata": {},
   "outputs": [
    {
     "data": {
      "text/plain": [
       "array([180, 235, 205, 185, 231, 240, 238, 190, 220, 260, 215, 253, 216,\n",
       "       200, 208, 219, 175, 275, 237, 248, 221, 210, 195, 255, 250, 278,\n",
       "       254, 201, 245, 228, 206, 212, 194, 225, 265, 230, 192, 273, 251,\n",
       "       270, 209, 189, 242, 213, 186, 161, 191, 232, 198, 193, 233, 218,\n",
       "       179, 172, 279, 188, 222, 243, 229, 246, 234, 257, 249, 217, 202,\n",
       "       252, 226, 165, 227, 239, 203, 170, 290, 199, 289, 184, 169, 207,\n",
       "       183, 280, 214, 241, 223, 307, 244, 173, 256])"
      ]
     },
     "execution_count": 34,
     "metadata": {},
     "output_type": "execute_result"
    }
   ],
   "source": [
    "df.Weight.unique()"
   ]
  },
  {
   "cell_type": "code",
   "execution_count": 35,
   "metadata": {},
   "outputs": [
    {
     "data": {
      "text/plain": [
       "count   457.00\n",
       "mean    221.52\n",
       "std      26.37\n",
       "min     161.00\n",
       "25%     200.00\n",
       "50%     220.00\n",
       "75%     240.00\n",
       "max     307.00\n",
       "Name: Weight, dtype: float64"
      ]
     },
     "execution_count": 35,
     "metadata": {},
     "output_type": "execute_result"
    }
   ],
   "source": [
    "df.Weight.describe()"
   ]
  },
  {
   "cell_type": "code",
   "execution_count": 28,
   "metadata": {},
   "outputs": [
    {
     "data": {
      "text/plain": [
       "array(['Texas', 'Marquette', 'Boston University', 'Georgia State', 0,\n",
       "       'LSU', 'Gonzaga', 'Louisville', 'Oklahoma State', 'Ohio State',\n",
       "       'Washington', 'Kentucky', 'North Carolina', 'Arizona',\n",
       "       'Georgia Tech', 'Cincinnati', 'Miami (FL)', 'Stanford', 'Syracuse',\n",
       "       'Saint Louis', 'Kansas', 'Georgetown', 'Texas A&M', 'UCLA', 'UNLV',\n",
       "       'Wichita State', \"Saint Joseph's\", 'Notre Dame', 'Norfolk State',\n",
       "       'Duke', 'Murray State', 'Tennessee State', 'Bowling Green',\n",
       "       'Purdue', 'Wake Forest', 'Michigan', 'Missouri', 'USC',\n",
       "       'Villanova', 'Rider', 'Utah', 'Belmont', 'Davidson', 'Vanderbilt',\n",
       "       'Michigan State', 'Florida', 'Washington State', 'Arizona State',\n",
       "       'Oklahoma', 'Wyoming', \"St. John's\", 'Maryland', 'Wisconsin',\n",
       "       'Utah Valley', 'North Carolina State', 'UC Santa Barbara',\n",
       "       'Baylor', 'Connecticut', 'Oregon State', 'New Mexico', 'Oregon',\n",
       "       'Creighton', 'Arkansas', 'Memphis', \"Saint Mary's\", 'Tennessee',\n",
       "       'Alabama', 'Georgia', 'Colorado', 'Boston College', 'Temple',\n",
       "       'Fresno State', 'IUPUI', 'Eastern Washington', 'Western Michigan',\n",
       "       'Virginia', 'Northeastern', 'Western Kentucky', 'Nevada',\n",
       "       'Illinois', 'Kansas State', 'Charleston', 'Clemson',\n",
       "       'Blinn College', 'Providence', '123456', 'Detroit', 'Rhode Island',\n",
       "       'California', 'Cleveland State', 'Iowa State', 'Florida State',\n",
       "       'Long Beach State', 'Penn State', 'Indiana', 'San Diego State',\n",
       "       'Western Carolina', 'Houston', 'Xavier', 'Old Dominion',\n",
       "       'Minnesota', 'Louisiana Tech', 'Bucknell', 'Pittsburgh', '!$^&',\n",
       "       'Virginia Commonwealth', 'Harvard', 'Marshall', 'Iowa',\n",
       "       'St. Bonaventure', 'Louisiana-Lafayette', 'Colorado State',\n",
       "       'Virginia Tech', 'DePaul', 'Morehead State', 'Central Michigan',\n",
       "       'Weber State', 'Lehigh', 'Westchester CC', 'Dayton', 'Butler'],\n",
       "      dtype=object)"
      ]
     },
     "execution_count": 28,
     "metadata": {},
     "output_type": "execute_result"
    }
   ],
   "source": [
    "df.College.unique()"
   ]
  },
  {
   "cell_type": "code",
   "execution_count": 18,
   "metadata": {},
   "outputs": [
    {
     "data": {
      "text/plain": [
       "0                 Texas\n",
       "1             Marquette\n",
       "2     Boston University\n",
       "3         Georgia State\n",
       "4                     0\n",
       "5                     0\n",
       "6                   LSU\n",
       "7               Gonzaga\n",
       "8            Louisville\n",
       "9        Oklahoma State\n",
       "10           Ohio State\n",
       "11           Washington\n",
       "12           Ohio State\n",
       "13             Kentucky\n",
       "14       North Carolina\n",
       "15                    0\n",
       "16       Oklahoma State\n",
       "17       North Carolina\n",
       "18              Arizona\n",
       "19         Georgia Tech\n",
       "20                    0\n",
       "21           Cincinnati\n",
       "22           Miami (FL)\n",
       "23             Stanford\n",
       "24             Syracuse\n",
       "25          Saint Louis\n",
       "26               Kansas\n",
       "27           Georgetown\n",
       "28            Texas A&M\n",
       "29         Georgia Tech\n",
       "30                 UCLA\n",
       "31                 UNLV\n",
       "32                    0\n",
       "33             Syracuse\n",
       "34                    0\n",
       "35        Wichita State\n",
       "36       Saint Joseph's\n",
       "37           Notre Dame\n",
       "38             Stanford\n",
       "39        Norfolk State\n",
       "40                    0\n",
       "41                    0\n",
       "42                 Duke\n",
       "43                    0\n",
       "44              Arizona\n",
       "45           Washington\n",
       "46                 Duke\n",
       "47         Murray State\n",
       "48      Tennessee State\n",
       "49               Kansas\n",
       "Name: College, dtype: object"
      ]
     },
     "execution_count": 18,
     "metadata": {},
     "output_type": "execute_result"
    }
   ],
   "source": [
    "df.College.head(50)"
   ]
  },
  {
   "cell_type": "code",
   "execution_count": 20,
   "metadata": {},
   "outputs": [
    {
     "data": {
      "text/plain": [
       "397                   0\n",
       "398                   0\n",
       "399          Louisville\n",
       "400                   0\n",
       "401                Duke\n",
       "402                UCLA\n",
       "403                UCLA\n",
       "404      Michigan State\n",
       "405                   0\n",
       "406            Kentucky\n",
       "407                   0\n",
       "408                   0\n",
       "409        Fresno State\n",
       "410            Kentucky\n",
       "411              Kansas\n",
       "412          Pittsburgh\n",
       "413              Kansas\n",
       "414               Texas\n",
       "415           Villanova\n",
       "416            Stanford\n",
       "417                   0\n",
       "418            Kentucky\n",
       "419            Michigan\n",
       "420            Kentucky\n",
       "421        Georgia Tech\n",
       "422        Murray State\n",
       "423            Colorado\n",
       "424                Duke\n",
       "425            Syracuse\n",
       "426                UCLA\n",
       "427              Kansas\n",
       "428         Wake Forest\n",
       "429          Notre Dame\n",
       "430          California\n",
       "431      North Carolina\n",
       "432          St. John's\n",
       "433                Duke\n",
       "434    Central Michigan\n",
       "435            Illinois\n",
       "436         Weber State\n",
       "437              Lehigh\n",
       "438      Westchester CC\n",
       "439                Duke\n",
       "440              Dayton\n",
       "441             Indiana\n",
       "442             Clemson\n",
       "443            Michigan\n",
       "444            Colorado\n",
       "445                   0\n",
       "446        Georgia Tech\n",
       "447                   0\n",
       "448              Butler\n",
       "449                Duke\n",
       "450                   0\n",
       "451              Dayton\n",
       "452            Kentucky\n",
       "453              Butler\n",
       "454                   0\n",
       "455                   0\n",
       "456              Kansas\n",
       "Name: College, dtype: object"
      ]
     },
     "execution_count": 20,
     "metadata": {},
     "output_type": "execute_result"
    }
   ],
   "source": [
    "df.College.tail(60)"
   ]
  },
  {
   "cell_type": "code",
   "execution_count": 15,
   "metadata": {},
   "outputs": [
    {
     "data": {
      "text/plain": [
       "SG      102\n",
       "PF      100\n",
       "PG       91\n",
       "SF       85\n",
       "C        78\n",
       "1567      1\n",
       "Name: Position, dtype: int64"
      ]
     },
     "execution_count": 15,
     "metadata": {},
     "output_type": "execute_result"
    }
   ],
   "source": [
    "df.Position.value_counts()"
   ]
  },
  {
   "cell_type": "code",
   "execution_count": 24,
   "metadata": {},
   "outputs": [
    {
     "data": {
      "text/plain": [
       "24.00    47\n",
       "25.00    44\n",
       "27.00    41\n",
       "23.00    40\n",
       "26.00    36\n",
       "28.00    31\n",
       "30.00    31\n",
       "29.00    28\n",
       "22.00    26\n",
       "31.00    22\n",
       "20.00    19\n",
       "21.00    19\n",
       "33.00    13\n",
       "32.00    13\n",
       "36.00    10\n",
       "34.00    10\n",
       "35.00     9\n",
       "37.00     4\n",
       "38.00     4\n",
       "0.00      3\n",
       "40.00     3\n",
       "39.00     2\n",
       "19.00     2\n",
       "Name: Age, dtype: int64"
      ]
     },
     "execution_count": 24,
     "metadata": {},
     "output_type": "execute_result"
    }
   ],
   "source": [
    "df.Age.value_counts()"
   ]
  },
  {
   "cell_type": "code",
   "execution_count": 16,
   "metadata": {},
   "outputs": [],
   "source": [
    "import numpy as np\n",
    "\n",
    "def clean(X):\n",
    "    # stop SettingWithCopyWarning\n",
    "    X = X.copy()\n",
    "\n",
    "\n",
    "    X = df.replace('1567', 0)\n",
    "    \n",
    "    X = X.drop(0)\n",
    "\n",
    "    \n",
    "    return X\n",
    "\n",
    "train = clean(train)\n",
    "val = clean(validate)\n",
    "test = clean(test)"
   ]
  },
  {
   "cell_type": "code",
   "execution_count": 17,
   "metadata": {},
   "outputs": [],
   "source": [
    "target = 'Salary'\n",
    "\n",
    "X_train = train.drop(columns=target)\n",
    "y_train = train[target]\n",
    "X_validate = val.drop(columns=target)\n",
    "y_validate = val[target]\n",
    "X_test = test.drop(columns=target)\n",
    "y_test = test[target]"
   ]
  },
  {
   "cell_type": "code",
   "execution_count": 18,
   "metadata": {},
   "outputs": [
    {
     "name": "stdout",
     "output_type": "stream",
     "text": [
      "Mean Absolute Error 1424151.759364035\n",
      "R^2 score 0.8624022093040788\n",
      "Validation Accuracy 0.8624022093040788\n"
     ]
    }
   ],
   "source": [
    "import category_encoders as ce\n",
    "from sklearn.impute import SimpleImputer\n",
    "from sklearn.pipeline import make_pipeline\n",
    "from sklearn.ensemble import RandomForestRegressor\n",
    "# from sklearn.preprocessing import RobustScaler\n",
    "\n",
    "pipeline = make_pipeline(\n",
    "    ce.OrdinalEncoder(),\n",
    "    SimpleImputer(strategy='median'),\n",
    "    RandomForestRegressor(n_estimators=100, random_state=42, n_jobs=-1)\n",
    ")\n",
    "\n",
    "# Fit on train , score on val \n",
    "pipeline.fit(X_train, y_train)\n",
    "y_pred = pipeline.predict(X_validate)\n",
    "print('Mean Absolute Error', mean_absolute_error(y_validate, y_pred))\n",
    "print('R^2 score', r2_score(y_validate, y_pred))\n",
    "print('Validation Accuracy', pipeline.score(X_validate,y_validate))"
   ]
  },
  {
   "cell_type": "code",
   "execution_count": 37,
   "metadata": {},
   "outputs": [
    {
     "data": {
      "text/plain": [
       "['pipeline.joblib']"
      ]
     },
     "execution_count": 37,
     "metadata": {},
     "output_type": "execute_result"
    }
   ],
   "source": [
    "from joblib import dump\n",
    "dump(pipeline, 'pipeline.joblib')"
   ]
  },
  {
   "cell_type": "code",
   "execution_count": null,
   "metadata": {},
   "outputs": [],
   "source": []
  },
  {
   "cell_type": "code",
   "execution_count": null,
   "metadata": {},
   "outputs": [],
   "source": []
  },
  {
   "cell_type": "code",
   "execution_count": null,
   "metadata": {},
   "outputs": [],
   "source": []
  }
 ],
 "metadata": {
  "kernelspec": {
   "display_name": "Python 3",
   "language": "python",
   "name": "python3"
  },
  "language_info": {
   "codemirror_mode": {
    "name": "ipython",
    "version": 3
   },
   "file_extension": ".py",
   "mimetype": "text/x-python",
   "name": "python",
   "nbconvert_exporter": "python",
   "pygments_lexer": "ipython3",
   "version": "3.7.4"
  }
 },
 "nbformat": 4,
 "nbformat_minor": 2
}
